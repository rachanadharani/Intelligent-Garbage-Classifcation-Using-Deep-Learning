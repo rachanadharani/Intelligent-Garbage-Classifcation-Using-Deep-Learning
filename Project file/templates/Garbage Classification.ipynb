{
 "cells": [
  {
   "cell_type": "code",
   "execution_count": 1,
   "id": "33f611b0",
   "metadata": {},
   "outputs": [
    {
     "name": "stdout",
     "output_type": "stream",
     "text": [
      "Requirement already satisfied: tensorflow in c:\\users\\bhanu\\anaconda3\\lib\\site-packages (2.13.0)Note: you may need to restart the kernel to use updated packages.\n",
      "\n",
      "Requirement already satisfied: tensorflow-intel==2.13.0 in c:\\users\\bhanu\\anaconda3\\lib\\site-packages (from tensorflow) (2.13.0)\n",
      "Requirement already satisfied: h5py>=2.9.0 in c:\\users\\bhanu\\anaconda3\\lib\\site-packages (from tensorflow-intel==2.13.0->tensorflow) (3.7.0)\n",
      "Requirement already satisfied: grpcio<2.0,>=1.24.3 in c:\\users\\bhanu\\anaconda3\\lib\\site-packages (from tensorflow-intel==2.13.0->tensorflow) (1.56.2)\n",
      "Requirement already satisfied: protobuf!=4.21.0,!=4.21.1,!=4.21.2,!=4.21.3,!=4.21.4,!=4.21.5,<5.0.0dev,>=3.20.3 in c:\\users\\bhanu\\anaconda3\\lib\\site-packages (from tensorflow-intel==2.13.0->tensorflow) (4.23.4)\n",
      "Requirement already satisfied: setuptools in c:\\users\\bhanu\\anaconda3\\lib\\site-packages (from tensorflow-intel==2.13.0->tensorflow) (65.6.3)\n",
      "Requirement already satisfied: packaging in c:\\users\\bhanu\\anaconda3\\lib\\site-packages (from tensorflow-intel==2.13.0->tensorflow) (22.0)\n",
      "Requirement already satisfied: gast<=0.4.0,>=0.2.1 in c:\\users\\bhanu\\anaconda3\\lib\\site-packages (from tensorflow-intel==2.13.0->tensorflow) (0.4.0)\n",
      "Requirement already satisfied: absl-py>=1.0.0 in c:\\users\\bhanu\\anaconda3\\lib\\site-packages (from tensorflow-intel==2.13.0->tensorflow) (1.4.0)\n",
      "Requirement already satisfied: astunparse>=1.6.0 in c:\\users\\bhanu\\anaconda3\\lib\\site-packages (from tensorflow-intel==2.13.0->tensorflow) (1.6.3)\n",
      "Requirement already satisfied: numpy<=1.24.3,>=1.22 in c:\\users\\bhanu\\anaconda3\\lib\\site-packages (from tensorflow-intel==2.13.0->tensorflow) (1.23.5)\n",
      "Requirement already satisfied: six>=1.12.0 in c:\\users\\bhanu\\anaconda3\\lib\\site-packages (from tensorflow-intel==2.13.0->tensorflow) (1.16.0)\n",
      "Requirement already satisfied: tensorboard<2.14,>=2.13 in c:\\users\\bhanu\\anaconda3\\lib\\site-packages (from tensorflow-intel==2.13.0->tensorflow) (2.13.0)\n",
      "Requirement already satisfied: tensorflow-io-gcs-filesystem>=0.23.1 in c:\\users\\bhanu\\anaconda3\\lib\\site-packages (from tensorflow-intel==2.13.0->tensorflow) (0.31.0)\n",
      "Requirement already satisfied: libclang>=13.0.0 in c:\\users\\bhanu\\anaconda3\\lib\\site-packages (from tensorflow-intel==2.13.0->tensorflow) (16.0.6)\n",
      "Requirement already satisfied: wrapt>=1.11.0 in c:\\users\\bhanu\\anaconda3\\lib\\site-packages (from tensorflow-intel==2.13.0->tensorflow) (1.14.1)\n",
      "Requirement already satisfied: opt-einsum>=2.3.2 in c:\\users\\bhanu\\anaconda3\\lib\\site-packages (from tensorflow-intel==2.13.0->tensorflow) (3.3.0)\n",
      "Requirement already satisfied: tensorflow-estimator<2.14,>=2.13.0 in c:\\users\\bhanu\\anaconda3\\lib\\site-packages (from tensorflow-intel==2.13.0->tensorflow) (2.13.0)\n",
      "Requirement already satisfied: google-pasta>=0.1.1 in c:\\users\\bhanu\\anaconda3\\lib\\site-packages (from tensorflow-intel==2.13.0->tensorflow) (0.2.0)\n",
      "Requirement already satisfied: keras<2.14,>=2.13.1 in c:\\users\\bhanu\\anaconda3\\lib\\site-packages (from tensorflow-intel==2.13.0->tensorflow) (2.13.1)\n",
      "Requirement already satisfied: termcolor>=1.1.0 in c:\\users\\bhanu\\anaconda3\\lib\\site-packages (from tensorflow-intel==2.13.0->tensorflow) (2.3.0)\n",
      "Requirement already satisfied: typing-extensions<4.6.0,>=3.6.6 in c:\\users\\bhanu\\anaconda3\\lib\\site-packages (from tensorflow-intel==2.13.0->tensorflow) (4.4.0)\n",
      "Requirement already satisfied: flatbuffers>=23.1.21 in c:\\users\\bhanu\\anaconda3\\lib\\site-packages (from tensorflow-intel==2.13.0->tensorflow) (23.5.26)\n",
      "Requirement already satisfied: wheel<1.0,>=0.23.0 in c:\\users\\bhanu\\anaconda3\\lib\\site-packages (from astunparse>=1.6.0->tensorflow-intel==2.13.0->tensorflow) (0.38.4)\n",
      "Requirement already satisfied: google-auth-oauthlib<1.1,>=0.5 in c:\\users\\bhanu\\anaconda3\\lib\\site-packages (from tensorboard<2.14,>=2.13->tensorflow-intel==2.13.0->tensorflow) (1.0.0)\n",
      "Requirement already satisfied: markdown>=2.6.8 in c:\\users\\bhanu\\anaconda3\\lib\\site-packages (from tensorboard<2.14,>=2.13->tensorflow-intel==2.13.0->tensorflow) (3.4.1)\n",
      "Requirement already satisfied: requests<3,>=2.21.0 in c:\\users\\bhanu\\anaconda3\\lib\\site-packages (from tensorboard<2.14,>=2.13->tensorflow-intel==2.13.0->tensorflow) (2.28.1)\n",
      "Requirement already satisfied: tensorboard-data-server<0.8.0,>=0.7.0 in c:\\users\\bhanu\\anaconda3\\lib\\site-packages (from tensorboard<2.14,>=2.13->tensorflow-intel==2.13.0->tensorflow) (0.7.1)\n",
      "Requirement already satisfied: google-auth<3,>=1.6.3 in c:\\users\\bhanu\\anaconda3\\lib\\site-packages (from tensorboard<2.14,>=2.13->tensorflow-intel==2.13.0->tensorflow) (2.22.0)\n",
      "Requirement already satisfied: werkzeug>=1.0.1 in c:\\users\\bhanu\\anaconda3\\lib\\site-packages (from tensorboard<2.14,>=2.13->tensorflow-intel==2.13.0->tensorflow) (2.2.2)\n",
      "Requirement already satisfied: urllib3<2.0 in c:\\users\\bhanu\\anaconda3\\lib\\site-packages (from google-auth<3,>=1.6.3->tensorboard<2.14,>=2.13->tensorflow-intel==2.13.0->tensorflow) (1.26.14)\n",
      "Requirement already satisfied: cachetools<6.0,>=2.0.0 in c:\\users\\bhanu\\anaconda3\\lib\\site-packages (from google-auth<3,>=1.6.3->tensorboard<2.14,>=2.13->tensorflow-intel==2.13.0->tensorflow) (5.3.1)\n",
      "Requirement already satisfied: pyasn1-modules>=0.2.1 in c:\\users\\bhanu\\anaconda3\\lib\\site-packages (from google-auth<3,>=1.6.3->tensorboard<2.14,>=2.13->tensorflow-intel==2.13.0->tensorflow) (0.2.8)\n",
      "Requirement already satisfied: rsa<5,>=3.1.4 in c:\\users\\bhanu\\anaconda3\\lib\\site-packages (from google-auth<3,>=1.6.3->tensorboard<2.14,>=2.13->tensorflow-intel==2.13.0->tensorflow) (4.9)\n",
      "Requirement already satisfied: requests-oauthlib>=0.7.0 in c:\\users\\bhanu\\anaconda3\\lib\\site-packages (from google-auth-oauthlib<1.1,>=0.5->tensorboard<2.14,>=2.13->tensorflow-intel==2.13.0->tensorflow) (1.3.1)\n",
      "Requirement already satisfied: certifi>=2017.4.17 in c:\\users\\bhanu\\anaconda3\\lib\\site-packages (from requests<3,>=2.21.0->tensorboard<2.14,>=2.13->tensorflow-intel==2.13.0->tensorflow) (2022.12.7)\n",
      "Requirement already satisfied: charset-normalizer<3,>=2 in c:\\users\\bhanu\\anaconda3\\lib\\site-packages (from requests<3,>=2.21.0->tensorboard<2.14,>=2.13->tensorflow-intel==2.13.0->tensorflow) (2.0.4)\n",
      "Requirement already satisfied: idna<4,>=2.5 in c:\\users\\bhanu\\anaconda3\\lib\\site-packages (from requests<3,>=2.21.0->tensorboard<2.14,>=2.13->tensorflow-intel==2.13.0->tensorflow) (3.4)\n",
      "Requirement already satisfied: MarkupSafe>=2.1.1 in c:\\users\\bhanu\\anaconda3\\lib\\site-packages (from werkzeug>=1.0.1->tensorboard<2.14,>=2.13->tensorflow-intel==2.13.0->tensorflow) (2.1.1)\n",
      "Requirement already satisfied: pyasn1<0.5.0,>=0.4.6 in c:\\users\\bhanu\\anaconda3\\lib\\site-packages (from pyasn1-modules>=0.2.1->google-auth<3,>=1.6.3->tensorboard<2.14,>=2.13->tensorflow-intel==2.13.0->tensorflow) (0.4.8)\n",
      "Requirement already satisfied: oauthlib>=3.0.0 in c:\\users\\bhanu\\anaconda3\\lib\\site-packages (from requests-oauthlib>=0.7.0->google-auth-oauthlib<1.1,>=0.5->tensorboard<2.14,>=2.13->tensorflow-intel==2.13.0->tensorflow) (3.2.2)\n"
     ]
    }
   ],
   "source": [
    "pip install tensorflow"
   ]
  },
  {
   "cell_type": "code",
   "execution_count": 2,
   "id": "80f482b7",
   "metadata": {},
   "outputs": [
    {
     "name": "stdout",
     "output_type": "stream",
     "text": [
      "Requirement already satisfied: ipykernel in c:\\users\\bhanu\\anaconda3\\lib\\site-packages (6.19.2)\n",
      "Requirement already satisfied: pyzmq>=17 in c:\\users\\bhanu\\anaconda3\\lib\\site-packages (from ipykernel) (23.2.0)\n",
      "Requirement already satisfied: ipython>=7.23.1 in c:\\users\\bhanu\\anaconda3\\lib\\site-packages (from ipykernel) (8.10.0)\n",
      "Requirement already satisfied: debugpy>=1.0 in c:\\users\\bhanu\\anaconda3\\lib\\site-packages (from ipykernel) (1.5.1)\n",
      "Requirement already satisfied: nest-asyncio in c:\\users\\bhanu\\anaconda3\\lib\\site-packages (from ipykernel) (1.5.6)\n",
      "Requirement already satisfied: jupyter-client>=6.1.12 in c:\\users\\bhanu\\anaconda3\\lib\\site-packages (from ipykernel) (7.3.4)\n",
      "Requirement already satisfied: tornado>=6.1 in c:\\users\\bhanu\\anaconda3\\lib\\site-packages (from ipykernel) (6.1)\n",
      "Requirement already satisfied: packaging in c:\\users\\bhanu\\anaconda3\\lib\\site-packages (from ipykernel) (22.0)\n",
      "Requirement already satisfied: matplotlib-inline>=0.1 in c:\\users\\bhanu\\anaconda3\\lib\\site-packages (from ipykernel) (0.1.6)\n",
      "Requirement already satisfied: psutil in c:\\users\\bhanu\\anaconda3\\lib\\site-packages (from ipykernel) (5.9.0)\n",
      "Requirement already satisfied: comm>=0.1.1 in c:\\users\\bhanu\\anaconda3\\lib\\site-packages (from ipykernel) (0.1.2)\n",
      "Requirement already satisfied: traitlets>=5.4.0 in c:\\users\\bhanu\\anaconda3\\lib\\site-packages (from ipykernel) (5.7.1)\n",
      "Requirement already satisfied: jedi>=0.16 in c:\\users\\bhanu\\anaconda3\\lib\\site-packages (from ipython>=7.23.1->ipykernel) (0.18.1)\n",
      "Requirement already satisfied: stack-data in c:\\users\\bhanu\\anaconda3\\lib\\site-packages (from ipython>=7.23.1->ipykernel) (0.2.0)\n",
      "Requirement already satisfied: pygments>=2.4.0 in c:\\users\\bhanu\\anaconda3\\lib\\site-packages (from ipython>=7.23.1->ipykernel) (2.11.2)\n",
      "Requirement already satisfied: prompt-toolkit<3.1.0,>=3.0.30 in c:\\users\\bhanu\\anaconda3\\lib\\site-packages (from ipython>=7.23.1->ipykernel) (3.0.36)\n",
      "Requirement already satisfied: colorama in c:\\users\\bhanu\\anaconda3\\lib\\site-packages (from ipython>=7.23.1->ipykernel) (0.4.6)\n",
      "Requirement already satisfied: pickleshare in c:\\users\\bhanu\\anaconda3\\lib\\site-packages (from ipython>=7.23.1->ipykernel) (0.7.5)\n",
      "Requirement already satisfied: backcall in c:\\users\\bhanu\\anaconda3\\lib\\site-packages (from ipython>=7.23.1->ipykernel) (0.2.0)\n",
      "Requirement already satisfied: decorator in c:\\users\\bhanu\\anaconda3\\lib\\site-packages (from ipython>=7.23.1->ipykernel) (5.1.1)\n",
      "Requirement already satisfied: python-dateutil>=2.8.2 in c:\\users\\bhanu\\anaconda3\\lib\\site-packages (from jupyter-client>=6.1.12->ipykernel) (2.8.2)\n",
      "Requirement already satisfied: jupyter-core>=4.9.2 in c:\\users\\bhanu\\anaconda3\\lib\\site-packages (from jupyter-client>=6.1.12->ipykernel) (5.2.0)\n",
      "Requirement already satisfied: entrypoints in c:\\users\\bhanu\\anaconda3\\lib\\site-packages (from jupyter-client>=6.1.12->ipykernel) (0.4)\n",
      "Requirement already satisfied: parso<0.9.0,>=0.8.0 in c:\\users\\bhanu\\anaconda3\\lib\\site-packages (from jedi>=0.16->ipython>=7.23.1->ipykernel) (0.8.3)\n",
      "Requirement already satisfied: platformdirs>=2.5 in c:\\users\\bhanu\\anaconda3\\lib\\site-packages (from jupyter-core>=4.9.2->jupyter-client>=6.1.12->ipykernel) (2.5.2)\n",
      "Requirement already satisfied: pywin32>=1.0 in c:\\users\\bhanu\\anaconda3\\lib\\site-packages (from jupyter-core>=4.9.2->jupyter-client>=6.1.12->ipykernel) (305.1)\n",
      "Requirement already satisfied: wcwidth in c:\\users\\bhanu\\anaconda3\\lib\\site-packages (from prompt-toolkit<3.1.0,>=3.0.30->ipython>=7.23.1->ipykernel) (0.2.5)\n",
      "Requirement already satisfied: six>=1.5 in c:\\users\\bhanu\\anaconda3\\lib\\site-packages (from python-dateutil>=2.8.2->jupyter-client>=6.1.12->ipykernel) (1.16.0)\n",
      "Requirement already satisfied: executing in c:\\users\\bhanu\\anaconda3\\lib\\site-packages (from stack-data->ipython>=7.23.1->ipykernel) (0.8.3)\n",
      "Requirement already satisfied: asttokens in c:\\users\\bhanu\\anaconda3\\lib\\site-packages (from stack-data->ipython>=7.23.1->ipykernel) (2.0.5)\n",
      "Requirement already satisfied: pure-eval in c:\\users\\bhanu\\anaconda3\\lib\\site-packages (from stack-data->ipython>=7.23.1->ipykernel) (0.2.2)\n",
      "Note: you may need to restart the kernel to use updated packages.\n"
     ]
    }
   ],
   "source": [
    "pip install ipykernel"
   ]
  },
  {
   "cell_type": "code",
   "execution_count": 5,
   "id": "bd5a619a",
   "metadata": {},
   "outputs": [],
   "source": [
    "from tensorflow.keras.preprocessing.image import ImageDataGenerator"
   ]
  },
  {
   "cell_type": "code",
   "execution_count": 6,
   "id": "fd814b6e",
   "metadata": {},
   "outputs": [],
   "source": [
    "# Create an ImageDataGenerator object for the train dataset\n",
    "train_datagen = ImageDataGenerator(\n",
    "    rescale=1./255,\n",
    "    shear_range=0.1,\n",
    "    zoom_range=0.1,\n",
    "    horizontal_flip=True\n",
    ")\n",
    "val_datagen = ImageDataGenerator(rescale = 1./255)"
   ]
  },
  {
   "cell_type": "code",
   "execution_count": 7,
   "id": "49a0cfe7",
   "metadata": {},
   "outputs": [
    {
     "name": "stdout",
     "output_type": "stream",
     "text": [
      "Found 2527 images belonging to 6 classes.\n",
      "Found 2527 images belonging to 6 classes.\n"
     ]
    }
   ],
   "source": [
    "\n",
    "# Generate augmented images for the train dataset\n",
    "train_transform = train_datagen.flow_from_directory(\n",
    "    r\"C:\\Users\\bhanu\\Desktop\\Garbage classification project\\Dataset\\Training set\",\n",
    "    target_size=(128,128),\n",
    "    batch_size=64,\n",
    "    class_mode='categorical'\n",
    ")\n",
    "\n",
    "test_transform = val_datagen.flow_from_directory(r\"C:\\Users\\bhanu\\Desktop\\Garbage classification project\\Dataset\\Testing set\",\n",
    "                                                target_size=(128,128),\n",
    "                                                batch_size=64,\n",
    "                                                class_mode='categorical')"
   ]
  },
  {
   "cell_type": "code",
   "execution_count": 8,
   "id": "7879c638",
   "metadata": {},
   "outputs": [],
   "source": [
    "from tensorflow.keras.models import Sequential\n",
    "from tensorflow.keras.layers import Dense\n",
    "from tensorflow.keras.layers import Convolution2D\n",
    "from tensorflow.keras.layers import MaxPooling2D\n",
    "from tensorflow.keras.layers import Flatten \n",
    "from tensorflow.keras.optimizers import Adam"
   ]
  },
  {
   "cell_type": "code",
   "execution_count": 9,
   "id": "e0e7769b",
   "metadata": {},
   "outputs": [],
   "source": [
    "model=Sequential()"
   ]
  },
  {
   "cell_type": "code",
   "execution_count": 10,
   "id": "8527b7e7",
   "metadata": {},
   "outputs": [],
   "source": [
    "model.add(Convolution2D(32,(3,3),input_shape=(128,128,3),activation='relu'))\n",
    "model.add(MaxPooling2D(2,2))\n"
   ]
  },
  {
   "cell_type": "code",
   "execution_count": 11,
   "id": "93d6724f",
   "metadata": {},
   "outputs": [],
   "source": [
    "model.add(Convolution2D(64,(3,3),padding='same',activation='relu'))\n",
    "model.add(MaxPooling2D(pool_size=2))"
   ]
  },
  {
   "cell_type": "code",
   "execution_count": 12,
   "id": "df4b0775",
   "metadata": {},
   "outputs": [],
   "source": [
    "model.add(Flatten())"
   ]
  },
  {
   "cell_type": "code",
   "execution_count": 13,
   "id": "5586130c",
   "metadata": {},
   "outputs": [],
   "source": [
    "model.add(Dense(kernel_initializer='uniform',activation='relu',units=150))"
   ]
  },
  {
   "cell_type": "code",
   "execution_count": 14,
   "id": "6030f8e9",
   "metadata": {},
   "outputs": [],
   "source": [
    "model.add(Dense(kernel_initializer='uniform',activation='relu',units=68))"
   ]
  },
  {
   "cell_type": "code",
   "execution_count": 15,
   "id": "d30728f3",
   "metadata": {},
   "outputs": [],
   "source": [
    "model.compile(loss='categorical_crossentropy',optimizer='adam',metrics=['acc'])"
   ]
  },
  {
   "cell_type": "code",
   "execution_count": 16,
   "id": "aad624c3",
   "metadata": {},
   "outputs": [],
   "source": [
    "from tensorflow.keras.models import Sequential\n",
    "from tensorflow.keras.layers import Dense\n",
    "from tensorflow.keras.layers import Convolution2D\n",
    "from tensorflow.keras.layers import MaxPooling2D\n",
    "from tensorflow.keras.layers import Flatten\n",
    "from tensorflow.keras.optimizers import Adam"
   ]
  },
  {
   "cell_type": "code",
   "execution_count": 17,
   "id": "e047bcd0",
   "metadata": {},
   "outputs": [],
   "source": [
    "model=Sequential()"
   ]
  },
  {
   "cell_type": "code",
   "execution_count": 18,
   "id": "164d3e8f",
   "metadata": {},
   "outputs": [],
   "source": [
    "model.add(Convolution2D(32,(3,3),input_shape=(128,128,3),activation='relu'))"
   ]
  },
  {
   "cell_type": "code",
   "execution_count": 19,
   "id": "d99c9575",
   "metadata": {},
   "outputs": [],
   "source": [
    "model.add(MaxPooling2D(2,2))"
   ]
  },
  {
   "cell_type": "code",
   "execution_count": 20,
   "id": "0f472c64",
   "metadata": {},
   "outputs": [],
   "source": [
    "model.add(Convolution2D(64,(3,3),padding='same',activation='relu'))\n",
    "model.add(MaxPooling2D(pool_size=2))"
   ]
  },
  {
   "cell_type": "code",
   "execution_count": 21,
   "id": "5381f1e7",
   "metadata": {},
   "outputs": [],
   "source": [
    "model.add(Convolution2D(32,(3,3),activation='relu'))\n",
    "model.add(MaxPooling2D(pool_size=2))"
   ]
  },
  {
   "cell_type": "code",
   "execution_count": 22,
   "id": "edd0fc24",
   "metadata": {},
   "outputs": [],
   "source": [
    "model.add(Flatten())"
   ]
  },
  {
   "cell_type": "code",
   "execution_count": 23,
   "id": "a98eb0fd",
   "metadata": {},
   "outputs": [],
   "source": [
    "model.add(Dense(kernel_initializer='uniform',activation='relu',units=150))\n",
    "model.add(Dense(kernel_initializer='uniform',activation='relu',units=68))\n",
    "model.add(Dense(kernel_initializer='uniform',activation='softmax',units=6))"
   ]
  },
  {
   "cell_type": "code",
   "execution_count": 24,
   "id": "322fcba5",
   "metadata": {},
   "outputs": [
    {
     "name": "stdout",
     "output_type": "stream",
     "text": [
      "Model: \"sequential_1\"\n",
      "_________________________________________________________________\n",
      " Layer (type)                Output Shape              Param #   \n",
      "=================================================================\n",
      " conv2d_2 (Conv2D)           (None, 126, 126, 32)      896       \n",
      "                                                                 \n",
      " max_pooling2d_2 (MaxPoolin  (None, 63, 63, 32)        0         \n",
      " g2D)                                                            \n",
      "                                                                 \n",
      " conv2d_3 (Conv2D)           (None, 63, 63, 64)        18496     \n",
      "                                                                 \n",
      " max_pooling2d_3 (MaxPoolin  (None, 31, 31, 64)        0         \n",
      " g2D)                                                            \n",
      "                                                                 \n",
      " conv2d_4 (Conv2D)           (None, 29, 29, 32)        18464     \n",
      "                                                                 \n",
      " max_pooling2d_4 (MaxPoolin  (None, 14, 14, 32)        0         \n",
      " g2D)                                                            \n",
      "                                                                 \n",
      " flatten_1 (Flatten)         (None, 6272)              0         \n",
      "                                                                 \n",
      " dense_2 (Dense)             (None, 150)               940950    \n",
      "                                                                 \n",
      " dense_3 (Dense)             (None, 68)                10268     \n",
      "                                                                 \n",
      " dense_4 (Dense)             (None, 6)                 414       \n",
      "                                                                 \n",
      "=================================================================\n",
      "Total params: 989488 (3.77 MB)\n",
      "Trainable params: 989488 (3.77 MB)\n",
      "Non-trainable params: 0 (0.00 Byte)\n",
      "_________________________________________________________________\n"
     ]
    }
   ],
   "source": [
    "model.summary()"
   ]
  },
  {
   "cell_type": "code",
   "execution_count": 25,
   "id": "cf410205",
   "metadata": {},
   "outputs": [],
   "source": [
    "model.compile(loss='categorical_crossentropy',optimizer='adam',metrics=['acc'])"
   ]
  },
  {
   "cell_type": "code",
   "execution_count": 26,
   "id": "174ec4e7",
   "metadata": {},
   "outputs": [
    {
     "name": "stderr",
     "output_type": "stream",
     "text": [
      "C:\\Users\\bhanu\\AppData\\Local\\Temp\\ipykernel_134568\\3055884448.py:1: UserWarning: `Model.fit_generator` is deprecated and will be removed in a future version. Please use `Model.fit`, which supports generators.\n",
      "  res=model.fit_generator(train_transform,steps_per_epoch=2527//64,validation_steps=782//64,epochs=30,validation_data=test_transform)\n"
     ]
    },
    {
     "name": "stdout",
     "output_type": "stream",
     "text": [
      "Epoch 1/30\n",
      "39/39 [==============================] - 304s 7s/step - loss: 1.7330 - acc: 0.2253 - val_loss: 1.6894 - val_acc: 0.2500\n",
      "Epoch 2/30\n",
      "39/39 [==============================] - 75s 2s/step - loss: 1.6018 - acc: 0.3143 - val_loss: 1.4893 - val_acc: 0.3555\n",
      "Epoch 3/30\n",
      "39/39 [==============================] - 62s 2s/step - loss: 1.4385 - acc: 0.3991 - val_loss: 1.4246 - val_acc: 0.4297\n",
      "Epoch 4/30\n",
      "39/39 [==============================] - 55s 1s/step - loss: 1.3680 - acc: 0.4324 - val_loss: 1.2999 - val_acc: 0.4648\n",
      "Epoch 5/30\n",
      "39/39 [==============================] - 76s 2s/step - loss: 1.2861 - acc: 0.4604 - val_loss: 1.2340 - val_acc: 0.4883\n",
      "Epoch 6/30\n",
      "39/39 [==============================] - 52s 1s/step - loss: 1.2209 - acc: 0.5152 - val_loss: 1.1717 - val_acc: 0.5195\n",
      "Epoch 7/30\n",
      "39/39 [==============================] - 47s 1s/step - loss: 1.1686 - acc: 0.5489 - val_loss: 1.0829 - val_acc: 0.5612\n",
      "Epoch 8/30\n",
      "39/39 [==============================] - 44s 1s/step - loss: 1.1766 - acc: 0.5400 - val_loss: 1.1604 - val_acc: 0.5469\n",
      "Epoch 9/30\n",
      "39/39 [==============================] - 44s 1s/step - loss: 1.0584 - acc: 0.5948 - val_loss: 1.0395 - val_acc: 0.5990\n",
      "Epoch 10/30\n",
      "39/39 [==============================] - 41s 1s/step - loss: 0.9914 - acc: 0.6167 - val_loss: 1.0563 - val_acc: 0.6172\n",
      "Epoch 11/30\n",
      "39/39 [==============================] - 43s 1s/step - loss: 0.9553 - acc: 0.6285 - val_loss: 0.9748 - val_acc: 0.6302\n",
      "Epoch 12/30\n",
      "39/39 [==============================] - 42s 1s/step - loss: 0.9293 - acc: 0.6451 - val_loss: 0.9941 - val_acc: 0.6224\n",
      "Epoch 13/30\n",
      "39/39 [==============================] - 41s 1s/step - loss: 0.8938 - acc: 0.6598 - val_loss: 0.8331 - val_acc: 0.6966\n",
      "Epoch 14/30\n",
      "39/39 [==============================] - 41s 1s/step - loss: 0.8175 - acc: 0.6878 - val_loss: 0.6840 - val_acc: 0.7383\n",
      "Epoch 15/30\n",
      "39/39 [==============================] - 41s 1s/step - loss: 0.7938 - acc: 0.7109 - val_loss: 0.9110 - val_acc: 0.6445\n",
      "Epoch 16/30\n",
      "39/39 [==============================] - 41s 1s/step - loss: 0.8120 - acc: 0.6910 - val_loss: 0.9580 - val_acc: 0.6510\n",
      "Epoch 17/30\n",
      "39/39 [==============================] - 41s 1s/step - loss: 0.7293 - acc: 0.7288 - val_loss: 0.7032 - val_acc: 0.7526\n",
      "Epoch 18/30\n",
      "39/39 [==============================] - 40s 1s/step - loss: 0.6530 - acc: 0.7596 - val_loss: 0.6496 - val_acc: 0.7643\n",
      "Epoch 19/30\n",
      "39/39 [==============================] - 40s 1s/step - loss: 0.6624 - acc: 0.7495 - val_loss: 0.6325 - val_acc: 0.7721\n",
      "Epoch 20/30\n",
      "39/39 [==============================] - 41s 1s/step - loss: 0.6846 - acc: 0.7475 - val_loss: 0.5975 - val_acc: 0.7852\n",
      "Epoch 21/30\n",
      "39/39 [==============================] - 40s 1s/step - loss: 0.5640 - acc: 0.7970 - val_loss: 0.6014 - val_acc: 0.7630\n",
      "Epoch 22/30\n",
      "39/39 [==============================] - 40s 1s/step - loss: 0.5469 - acc: 0.7978 - val_loss: 0.4525 - val_acc: 0.8190\n",
      "Epoch 23/30\n",
      "39/39 [==============================] - 41s 1s/step - loss: 0.5485 - acc: 0.7917 - val_loss: 0.5872 - val_acc: 0.7747\n",
      "Epoch 24/30\n",
      "39/39 [==============================] - 41s 1s/step - loss: 0.5053 - acc: 0.8149 - val_loss: 0.4189 - val_acc: 0.8411\n",
      "Epoch 25/30\n",
      "39/39 [==============================] - 41s 1s/step - loss: 0.5201 - acc: 0.8051 - val_loss: 0.4466 - val_acc: 0.8359\n",
      "Epoch 26/30\n",
      "39/39 [==============================] - 41s 1s/step - loss: 0.4585 - acc: 0.8270 - val_loss: 0.4857 - val_acc: 0.8060\n",
      "Epoch 27/30\n",
      "39/39 [==============================] - 41s 1s/step - loss: 0.3798 - acc: 0.8542 - val_loss: 0.3234 - val_acc: 0.8880\n",
      "Epoch 28/30\n",
      "39/39 [==============================] - 40s 1s/step - loss: 0.4085 - acc: 0.8555 - val_loss: 0.5564 - val_acc: 0.7878\n",
      "Epoch 29/30\n",
      "39/39 [==============================] - 40s 1s/step - loss: 0.3974 - acc: 0.8530 - val_loss: 0.4100 - val_acc: 0.8581\n",
      "Epoch 30/30\n",
      "39/39 [==============================] - 43s 1s/step - loss: 0.3707 - acc: 0.8680 - val_loss: 0.3033 - val_acc: 0.8932\n"
     ]
    }
   ],
   "source": [
    " res=model.fit_generator(train_transform,steps_per_epoch=2527//64,validation_steps=782//64,epochs=30,validation_data=test_transform)"
   ]
  },
  {
   "cell_type": "code",
   "execution_count": 27,
   "id": "8782f508",
   "metadata": {},
   "outputs": [
    {
     "name": "stderr",
     "output_type": "stream",
     "text": [
      "C:\\Users\\bhanu\\anaconda3\\lib\\site-packages\\keras\\src\\engine\\training.py:3000: UserWarning: You are saving your model as an HDF5 file via `model.save()`. This file format is considered legacy. We recommend using instead the native Keras format, e.g. `model.save('my_model.keras')`.\n",
      "  saving_api.save_model(\n"
     ]
    }
   ],
   "source": [
    "model.save('Garbage1.h5')"
   ]
  },
  {
   "cell_type": "code",
   "execution_count": 28,
   "id": "d553ae5c",
   "metadata": {},
   "outputs": [],
   "source": [
    "import numpy as np\n",
    "from tensorflow.keras.models import load_model\n",
    "from tensorflow.keras.preprocessing import image\n",
    "model = load_model(\"Garbage1.h5\")"
   ]
  },
  {
   "cell_type": "code",
   "execution_count": 29,
   "id": "54ff3917",
   "metadata": {},
   "outputs": [
    {
     "name": "stdout",
     "output_type": "stream",
     "text": [
      "1/1 [==============================] - 2s 2s/step\n"
     ]
    },
    {
     "data": {
      "text/plain": [
       "'3'"
      ]
     },
     "execution_count": 29,
     "metadata": {},
     "output_type": "execute_result"
    }
   ],
   "source": [
    "img = image.load_img(r\"C:\\Users\\bhanu\\Desktop\\Garbage classification project\\Dataset\\Testing set\\glass\\glass1.jpg\",\n",
    "                     target_size=(128,128))\n",
    "x=image.img_to_array(img)\n",
    "x=np.expand_dims(x,axis=0)\n",
    "a=np.argmax(model.predict(x), axis=1)\n",
    "index=['0','1','2','3','4','5']\n",
    "result = str(index[a[0]])\n",
    "result"
   ]
  },
  {
   "cell_type": "code",
   "execution_count": 30,
   "id": "2b540046",
   "metadata": {},
   "outputs": [
    {
     "data": {
      "text/plain": [
       "{'cardboard': 0, 'glass': 1, 'metal': 2, 'paper': 3, 'plastic': 4, 'trash': 5}"
      ]
     },
     "execution_count": 30,
     "metadata": {},
     "output_type": "execute_result"
    }
   ],
   "source": [
    "train_transform.class_indices"
   ]
  },
  {
   "cell_type": "code",
   "execution_count": 31,
   "id": "25a3847e",
   "metadata": {},
   "outputs": [
    {
     "data": {
      "text/plain": [
       "'paper'"
      ]
     },
     "execution_count": 31,
     "metadata": {},
     "output_type": "execute_result"
    }
   ],
   "source": [
    "index1=['cardboard','glass','metal','paper','plastic','trash']\n",
    "result1=str(index1[a[0]])\n",
    "result1"
   ]
  },
  {
   "cell_type": "code",
   "execution_count": null,
   "id": "1ad19043",
   "metadata": {},
   "outputs": [],
   "source": []
  }
 ],
 "metadata": {
  "kernelspec": {
   "display_name": "Python 3 (ipykernel)",
   "language": "python",
   "name": "python3"
  },
  "language_info": {
   "codemirror_mode": {
    "name": "ipython",
    "version": 3
   },
   "file_extension": ".py",
   "mimetype": "text/x-python",
   "name": "python",
   "nbconvert_exporter": "python",
   "pygments_lexer": "ipython3",
   "version": "3.10.9"
  }
 },
 "nbformat": 4,
 "nbformat_minor": 5
}
